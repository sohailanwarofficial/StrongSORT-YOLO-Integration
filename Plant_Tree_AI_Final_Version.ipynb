{
  "nbformat": 4,
  "nbformat_minor": 0,
  "metadata": {
    "colab": {
      "provenance": [],
      "gpuType": "T4"
    },
    "kernelspec": {
      "name": "python3",
      "display_name": "Python 3"
    },
    "language_info": {
      "name": "python"
    },
    "accelerator": "GPU"
  },
  "cells": [
    {
      "cell_type": "code",
      "execution_count": null,
      "metadata": {
        "colab": {
          "base_uri": "https://localhost:8080/"
        },
        "id": "0BB8uKkhZPR5",
        "outputId": "35a89c46-7461-49e8-fbe4-02a76c2ad268"
      },
      "outputs": [
        {
          "output_type": "stream",
          "name": "stdout",
          "text": [
            "Drive already mounted at /content/drive; to attempt to forcibly remount, call drive.mount(\"/content/drive\", force_remount=True).\n",
            "Requirement already satisfied: gspread in /usr/local/lib/python3.10/dist-packages (5.11.1)\n",
            "Requirement already satisfied: google-auth>=1.12.0 in /usr/local/lib/python3.10/dist-packages (from gspread) (2.17.3)\n",
            "Requirement already satisfied: google-auth-oauthlib>=0.4.1 in /usr/local/lib/python3.10/dist-packages (from gspread) (1.0.0)\n",
            "Requirement already satisfied: cachetools<6.0,>=2.0.0 in /usr/local/lib/python3.10/dist-packages (from google-auth>=1.12.0->gspread) (5.3.1)\n",
            "Requirement already satisfied: pyasn1-modules>=0.2.1 in /usr/local/lib/python3.10/dist-packages (from google-auth>=1.12.0->gspread) (0.3.0)\n",
            "Requirement already satisfied: six>=1.9.0 in /usr/local/lib/python3.10/dist-packages (from google-auth>=1.12.0->gspread) (1.16.0)\n",
            "Requirement already satisfied: rsa<5,>=3.1.4 in /usr/local/lib/python3.10/dist-packages (from google-auth>=1.12.0->gspread) (4.9)\n",
            "Requirement already satisfied: requests-oauthlib>=0.7.0 in /usr/local/lib/python3.10/dist-packages (from google-auth-oauthlib>=0.4.1->gspread) (1.3.1)\n",
            "Requirement already satisfied: pyasn1<0.6.0,>=0.4.6 in /usr/local/lib/python3.10/dist-packages (from pyasn1-modules>=0.2.1->google-auth>=1.12.0->gspread) (0.5.0)\n",
            "Requirement already satisfied: oauthlib>=3.0.0 in /usr/local/lib/python3.10/dist-packages (from requests-oauthlib>=0.7.0->google-auth-oauthlib>=0.4.1->gspread) (3.2.2)\n",
            "Requirement already satisfied: requests>=2.0.0 in /usr/local/lib/python3.10/dist-packages (from requests-oauthlib>=0.7.0->google-auth-oauthlib>=0.4.1->gspread) (2.31.0)\n",
            "Requirement already satisfied: charset-normalizer<4,>=2 in /usr/local/lib/python3.10/dist-packages (from requests>=2.0.0->requests-oauthlib>=0.7.0->google-auth-oauthlib>=0.4.1->gspread) (3.2.0)\n",
            "Requirement already satisfied: idna<4,>=2.5 in /usr/local/lib/python3.10/dist-packages (from requests>=2.0.0->requests-oauthlib>=0.7.0->google-auth-oauthlib>=0.4.1->gspread) (3.4)\n",
            "Requirement already satisfied: urllib3<3,>=1.21.1 in /usr/local/lib/python3.10/dist-packages (from requests>=2.0.0->requests-oauthlib>=0.7.0->google-auth-oauthlib>=0.4.1->gspread) (2.0.4)\n",
            "Requirement already satisfied: certifi>=2017.4.17 in /usr/local/lib/python3.10/dist-packages (from requests>=2.0.0->requests-oauthlib>=0.7.0->google-auth-oauthlib>=0.4.1->gspread) (2023.7.22)\n",
            "Requirement already satisfied: ultralytics in /usr/local/lib/python3.10/dist-packages (8.0.180)\n",
            "Requirement already satisfied: matplotlib>=3.2.2 in /usr/local/lib/python3.10/dist-packages (from ultralytics) (3.7.1)\n",
            "Requirement already satisfied: numpy>=1.22.2 in /usr/local/lib/python3.10/dist-packages (from ultralytics) (1.23.5)\n",
            "Requirement already satisfied: opencv-python>=4.6.0 in /usr/local/lib/python3.10/dist-packages (from ultralytics) (4.8.0.76)\n",
            "Requirement already satisfied: pillow>=7.1.2 in /usr/local/lib/python3.10/dist-packages (from ultralytics) (9.4.0)\n",
            "Requirement already satisfied: pyyaml>=5.3.1 in /usr/local/lib/python3.10/dist-packages (from ultralytics) (6.0.1)\n",
            "Requirement already satisfied: requests>=2.23.0 in /usr/local/lib/python3.10/dist-packages (from ultralytics) (2.31.0)\n",
            "Requirement already satisfied: scipy>=1.4.1 in /usr/local/lib/python3.10/dist-packages (from ultralytics) (1.11.2)\n",
            "Requirement already satisfied: torch>=1.8.0 in /usr/local/lib/python3.10/dist-packages (from ultralytics) (2.0.1+cu118)\n",
            "Requirement already satisfied: torchvision>=0.9.0 in /usr/local/lib/python3.10/dist-packages (from ultralytics) (0.15.2+cu118)\n",
            "Requirement already satisfied: tqdm>=4.64.0 in /usr/local/lib/python3.10/dist-packages (from ultralytics) (4.66.1)\n",
            "Requirement already satisfied: pandas>=1.1.4 in /usr/local/lib/python3.10/dist-packages (from ultralytics) (1.5.3)\n",
            "Requirement already satisfied: seaborn>=0.11.0 in /usr/local/lib/python3.10/dist-packages (from ultralytics) (0.12.2)\n",
            "Requirement already satisfied: psutil in /usr/local/lib/python3.10/dist-packages (from ultralytics) (5.9.5)\n",
            "Requirement already satisfied: py-cpuinfo in /usr/local/lib/python3.10/dist-packages (from ultralytics) (9.0.0)\n",
            "Requirement already satisfied: contourpy>=1.0.1 in /usr/local/lib/python3.10/dist-packages (from matplotlib>=3.2.2->ultralytics) (1.1.0)\n",
            "Requirement already satisfied: cycler>=0.10 in /usr/local/lib/python3.10/dist-packages (from matplotlib>=3.2.2->ultralytics) (0.11.0)\n",
            "Requirement already satisfied: fonttools>=4.22.0 in /usr/local/lib/python3.10/dist-packages (from matplotlib>=3.2.2->ultralytics) (4.42.1)\n",
            "Requirement already satisfied: kiwisolver>=1.0.1 in /usr/local/lib/python3.10/dist-packages (from matplotlib>=3.2.2->ultralytics) (1.4.5)\n",
            "Requirement already satisfied: packaging>=20.0 in /usr/local/lib/python3.10/dist-packages (from matplotlib>=3.2.2->ultralytics) (23.1)\n",
            "Requirement already satisfied: pyparsing>=2.3.1 in /usr/local/lib/python3.10/dist-packages (from matplotlib>=3.2.2->ultralytics) (3.1.1)\n",
            "Requirement already satisfied: python-dateutil>=2.7 in /usr/local/lib/python3.10/dist-packages (from matplotlib>=3.2.2->ultralytics) (2.8.2)\n",
            "Requirement already satisfied: pytz>=2020.1 in /usr/local/lib/python3.10/dist-packages (from pandas>=1.1.4->ultralytics) (2023.3.post1)\n",
            "Requirement already satisfied: charset-normalizer<4,>=2 in /usr/local/lib/python3.10/dist-packages (from requests>=2.23.0->ultralytics) (3.2.0)\n",
            "Requirement already satisfied: idna<4,>=2.5 in /usr/local/lib/python3.10/dist-packages (from requests>=2.23.0->ultralytics) (3.4)\n",
            "Requirement already satisfied: urllib3<3,>=1.21.1 in /usr/local/lib/python3.10/dist-packages (from requests>=2.23.0->ultralytics) (2.0.4)\n",
            "Requirement already satisfied: certifi>=2017.4.17 in /usr/local/lib/python3.10/dist-packages (from requests>=2.23.0->ultralytics) (2023.7.22)\n",
            "Requirement already satisfied: filelock in /usr/local/lib/python3.10/dist-packages (from torch>=1.8.0->ultralytics) (3.12.2)\n",
            "Requirement already satisfied: typing-extensions in /usr/local/lib/python3.10/dist-packages (from torch>=1.8.0->ultralytics) (4.5.0)\n",
            "Requirement already satisfied: sympy in /usr/local/lib/python3.10/dist-packages (from torch>=1.8.0->ultralytics) (1.12)\n",
            "Requirement already satisfied: networkx in /usr/local/lib/python3.10/dist-packages (from torch>=1.8.0->ultralytics) (3.1)\n",
            "Requirement already satisfied: jinja2 in /usr/local/lib/python3.10/dist-packages (from torch>=1.8.0->ultralytics) (3.1.2)\n",
            "Requirement already satisfied: triton==2.0.0 in /usr/local/lib/python3.10/dist-packages (from torch>=1.8.0->ultralytics) (2.0.0)\n",
            "Requirement already satisfied: cmake in /usr/local/lib/python3.10/dist-packages (from triton==2.0.0->torch>=1.8.0->ultralytics) (3.27.4.1)\n",
            "Requirement already satisfied: lit in /usr/local/lib/python3.10/dist-packages (from triton==2.0.0->torch>=1.8.0->ultralytics) (16.0.6)\n",
            "Requirement already satisfied: six>=1.5 in /usr/local/lib/python3.10/dist-packages (from python-dateutil>=2.7->matplotlib>=3.2.2->ultralytics) (1.16.0)\n",
            "Requirement already satisfied: MarkupSafe>=2.0 in /usr/local/lib/python3.10/dist-packages (from jinja2->torch>=1.8.0->ultralytics) (2.1.3)\n",
            "Requirement already satisfied: mpmath>=0.19 in /usr/local/lib/python3.10/dist-packages (from sympy->torch>=1.8.0->ultralytics) (1.3.0)\n"
          ]
        }
      ],
      "source": [
        "# Code to Mount Google Drive\n",
        "from google.colab import drive\n",
        "drive.mount('/content/drive')\n",
        "\n",
        "# Code to Install gspread\n",
        "!pip install --upgrade gspread\n",
        "\n",
        "!pip install ultralytics"
      ]
    },
    {
      "cell_type": "code",
      "source": [
        "cd /content/drive/MyDrive/StrongSORT-YOLO/yolov5\n"
      ],
      "metadata": {
        "colab": {
          "base_uri": "https://localhost:8080/"
        },
        "id": "UQafQgn8acf3",
        "outputId": "9e1adf26-17fa-4fbc-9717-8642a507f83f"
      },
      "execution_count": null,
      "outputs": [
        {
          "output_type": "stream",
          "name": "stdout",
          "text": [
            "/content/drive/MyDrive/StrongSORT-YOLO/yolov5\n"
          ]
        }
      ]
    },
    {
      "cell_type": "code",
      "source": [
        "cd yolov5\n"
      ],
      "metadata": {
        "colab": {
          "base_uri": "https://localhost:8080/"
        },
        "id": "GK3XopCTbJNr",
        "outputId": "8e124c4a-4060-4b97-bc94-ef025e3df31e"
      },
      "execution_count": null,
      "outputs": [
        {
          "output_type": "stream",
          "name": "stdout",
          "text": [
            "/content/drive/MyDrive/StrongSORT-YOLO/yolov5/yolov5\n"
          ]
        }
      ]
    },
    {
      "cell_type": "code",
      "source": [
        "!pip install -r requirements.txt  # install"
      ],
      "metadata": {
        "colab": {
          "base_uri": "https://localhost:8080/"
        },
        "id": "3yusz0uRbLEB",
        "outputId": "257bbc6f-c350-40b2-d18f-2229e769a4e3"
      },
      "execution_count": null,
      "outputs": [
        {
          "output_type": "stream",
          "name": "stdout",
          "text": [
            "Requirement already satisfied: gitpython>=3.1.30 in /usr/local/lib/python3.10/dist-packages (from -r requirements.txt (line 5)) (3.1.36)\n",
            "Requirement already satisfied: matplotlib>=3.3 in /usr/local/lib/python3.10/dist-packages (from -r requirements.txt (line 6)) (3.7.1)\n",
            "Requirement already satisfied: numpy>=1.22.2 in /usr/local/lib/python3.10/dist-packages (from -r requirements.txt (line 7)) (1.23.5)\n",
            "Requirement already satisfied: opencv-python>=4.1.1 in /usr/local/lib/python3.10/dist-packages (from -r requirements.txt (line 8)) (4.8.0.76)\n",
            "Requirement already satisfied: Pillow>=7.1.2 in /usr/local/lib/python3.10/dist-packages (from -r requirements.txt (line 9)) (9.4.0)\n",
            "Requirement already satisfied: psutil in /usr/local/lib/python3.10/dist-packages (from -r requirements.txt (line 10)) (5.9.5)\n",
            "Requirement already satisfied: PyYAML>=5.3.1 in /usr/local/lib/python3.10/dist-packages (from -r requirements.txt (line 11)) (6.0.1)\n",
            "Requirement already satisfied: requests>=2.23.0 in /usr/local/lib/python3.10/dist-packages (from -r requirements.txt (line 12)) (2.31.0)\n",
            "Requirement already satisfied: scipy>=1.4.1 in /usr/local/lib/python3.10/dist-packages (from -r requirements.txt (line 13)) (1.11.2)\n",
            "Requirement already satisfied: thop>=0.1.1 in /usr/local/lib/python3.10/dist-packages (from -r requirements.txt (line 14)) (0.1.1.post2209072238)\n",
            "Requirement already satisfied: torch>=1.8.0 in /usr/local/lib/python3.10/dist-packages (from -r requirements.txt (line 15)) (2.0.1+cu118)\n",
            "Requirement already satisfied: torchvision>=0.9.0 in /usr/local/lib/python3.10/dist-packages (from -r requirements.txt (line 16)) (0.15.2+cu118)\n",
            "Requirement already satisfied: tqdm>=4.64.0 in /usr/local/lib/python3.10/dist-packages (from -r requirements.txt (line 17)) (4.66.1)\n",
            "Requirement already satisfied: ultralytics>=8.0.147 in /usr/local/lib/python3.10/dist-packages (from -r requirements.txt (line 18)) (8.0.180)\n",
            "Requirement already satisfied: pandas>=1.1.4 in /usr/local/lib/python3.10/dist-packages (from -r requirements.txt (line 27)) (1.5.3)\n",
            "Requirement already satisfied: seaborn>=0.11.0 in /usr/local/lib/python3.10/dist-packages (from -r requirements.txt (line 28)) (0.12.2)\n",
            "Requirement already satisfied: setuptools>=65.5.1 in /usr/local/lib/python3.10/dist-packages (from -r requirements.txt (line 42)) (67.7.2)\n",
            "Requirement already satisfied: gitdb<5,>=4.0.1 in /usr/local/lib/python3.10/dist-packages (from gitpython>=3.1.30->-r requirements.txt (line 5)) (4.0.10)\n",
            "Requirement already satisfied: contourpy>=1.0.1 in /usr/local/lib/python3.10/dist-packages (from matplotlib>=3.3->-r requirements.txt (line 6)) (1.1.0)\n",
            "Requirement already satisfied: cycler>=0.10 in /usr/local/lib/python3.10/dist-packages (from matplotlib>=3.3->-r requirements.txt (line 6)) (0.11.0)\n",
            "Requirement already satisfied: fonttools>=4.22.0 in /usr/local/lib/python3.10/dist-packages (from matplotlib>=3.3->-r requirements.txt (line 6)) (4.42.1)\n",
            "Requirement already satisfied: kiwisolver>=1.0.1 in /usr/local/lib/python3.10/dist-packages (from matplotlib>=3.3->-r requirements.txt (line 6)) (1.4.5)\n",
            "Requirement already satisfied: packaging>=20.0 in /usr/local/lib/python3.10/dist-packages (from matplotlib>=3.3->-r requirements.txt (line 6)) (23.1)\n",
            "Requirement already satisfied: pyparsing>=2.3.1 in /usr/local/lib/python3.10/dist-packages (from matplotlib>=3.3->-r requirements.txt (line 6)) (3.1.1)\n",
            "Requirement already satisfied: python-dateutil>=2.7 in /usr/local/lib/python3.10/dist-packages (from matplotlib>=3.3->-r requirements.txt (line 6)) (2.8.2)\n",
            "Requirement already satisfied: charset-normalizer<4,>=2 in /usr/local/lib/python3.10/dist-packages (from requests>=2.23.0->-r requirements.txt (line 12)) (3.2.0)\n",
            "Requirement already satisfied: idna<4,>=2.5 in /usr/local/lib/python3.10/dist-packages (from requests>=2.23.0->-r requirements.txt (line 12)) (3.4)\n",
            "Requirement already satisfied: urllib3<3,>=1.21.1 in /usr/local/lib/python3.10/dist-packages (from requests>=2.23.0->-r requirements.txt (line 12)) (2.0.4)\n",
            "Requirement already satisfied: certifi>=2017.4.17 in /usr/local/lib/python3.10/dist-packages (from requests>=2.23.0->-r requirements.txt (line 12)) (2023.7.22)\n",
            "Requirement already satisfied: filelock in /usr/local/lib/python3.10/dist-packages (from torch>=1.8.0->-r requirements.txt (line 15)) (3.12.2)\n",
            "Requirement already satisfied: typing-extensions in /usr/local/lib/python3.10/dist-packages (from torch>=1.8.0->-r requirements.txt (line 15)) (4.5.0)\n",
            "Requirement already satisfied: sympy in /usr/local/lib/python3.10/dist-packages (from torch>=1.8.0->-r requirements.txt (line 15)) (1.12)\n",
            "Requirement already satisfied: networkx in /usr/local/lib/python3.10/dist-packages (from torch>=1.8.0->-r requirements.txt (line 15)) (3.1)\n",
            "Requirement already satisfied: jinja2 in /usr/local/lib/python3.10/dist-packages (from torch>=1.8.0->-r requirements.txt (line 15)) (3.1.2)\n",
            "Requirement already satisfied: triton==2.0.0 in /usr/local/lib/python3.10/dist-packages (from torch>=1.8.0->-r requirements.txt (line 15)) (2.0.0)\n",
            "Requirement already satisfied: cmake in /usr/local/lib/python3.10/dist-packages (from triton==2.0.0->torch>=1.8.0->-r requirements.txt (line 15)) (3.27.4.1)\n",
            "Requirement already satisfied: lit in /usr/local/lib/python3.10/dist-packages (from triton==2.0.0->torch>=1.8.0->-r requirements.txt (line 15)) (16.0.6)\n",
            "Requirement already satisfied: py-cpuinfo in /usr/local/lib/python3.10/dist-packages (from ultralytics>=8.0.147->-r requirements.txt (line 18)) (9.0.0)\n",
            "Requirement already satisfied: pytz>=2020.1 in /usr/local/lib/python3.10/dist-packages (from pandas>=1.1.4->-r requirements.txt (line 27)) (2023.3.post1)\n",
            "Requirement already satisfied: smmap<6,>=3.0.1 in /usr/local/lib/python3.10/dist-packages (from gitdb<5,>=4.0.1->gitpython>=3.1.30->-r requirements.txt (line 5)) (5.0.0)\n",
            "Requirement already satisfied: six>=1.5 in /usr/local/lib/python3.10/dist-packages (from python-dateutil>=2.7->matplotlib>=3.3->-r requirements.txt (line 6)) (1.16.0)\n",
            "Requirement already satisfied: MarkupSafe>=2.0 in /usr/local/lib/python3.10/dist-packages (from jinja2->torch>=1.8.0->-r requirements.txt (line 15)) (2.1.3)\n",
            "Requirement already satisfied: mpmath>=0.19 in /usr/local/lib/python3.10/dist-packages (from sympy->torch>=1.8.0->-r requirements.txt (line 15)) (1.3.0)\n"
          ]
        }
      ]
    },
    {
      "cell_type": "code",
      "source": [
        "from google.colab import auth\n",
        "auth.authenticate_user()\n",
        "\n",
        "import gspread\n",
        "from google.auth import default\n",
        "\n",
        "# Authenticate and authorize\n",
        "creds, _ = default()\n",
        "\n",
        "gc = gspread.authorize(creds)\n",
        "\n",
        "# Open the Google Sheet by URL and select the worksheet\n",
        "worksheet = gc.open_by_url('https://docs.google.com/spreadsheets/d/1UJ6in71M5X_oDXmKOL2tYhlW21vWqPjBZYAISXTuDHI/edit#gid=1725335115').worksheet('LIVE SUBMISSIONS')\n",
        "\n",
        "# Get all values from the worksheet\n",
        "values = worksheet.get_all_values()\n",
        "\n",
        "# Initialize a flag to check if we found a matching row\n",
        "found_matching_row = False\n",
        "\n",
        "# Loop through the rows and check the \"AA\" column\n",
        "for index, row in enumerate(values[1:], start=2):  # Start from the second row (index 1)\n",
        "    aa_value = row[26]  # Assuming \"AA\" column is the 27th column (0-based index)\n",
        "\n",
        "    if not aa_value:  # If \"AA\" column is empty\n",
        "        email_id = row[3]  # Get email id from column D (0-based index)\n",
        "        url_link = row[11]  # Get URL link from column L (0-based index)\n",
        "\n",
        "        # Print the information for the current row\n",
        "        print(f\"Row Index: {index}, Email ID: {email_id}, URL Link: {url_link}\")\n",
        "\n",
        "        # Set the flag to True to indicate that we found a matching row\n",
        "        found_matching_row = True\n",
        "\n",
        "        # Break out of the loop after processing the first matching row\n",
        "        break\n",
        "\n",
        "# Check if no matching rows were found\n",
        "if not found_matching_row:\n",
        "    print(\"No rows with empty 'AA' column found.\")\n"
      ],
      "metadata": {
        "colab": {
          "base_uri": "https://localhost:8080/"
        },
        "id": "dKNH1lFaZrmD",
        "outputId": "1533bf3a-3c4e-4b1f-8117-1f3811f547f4"
      },
      "execution_count": null,
      "outputs": [
        {
          "output_type": "stream",
          "name": "stdout",
          "text": [
            "No rows with empty 'AA' column found.\n"
          ]
        }
      ]
    },
    {
      "cell_type": "code",
      "source": [
        "import os\n",
        "import subprocess\n",
        "import requests\n",
        "\n",
        "# Use the specific YOLO directory path on your Google Drive\n",
        "yolo_directory = '/content/drive/MyDrive/StrongSORT-YOLO/yolov5/yolov5/'\n",
        "\n",
        "# Create a directory to store downloaded videos\n",
        "download_directory = os.path.join(yolo_directory, 'downloaded_videos')\n",
        "os.makedirs(download_directory, exist_ok=True)\n",
        "\n",
        "try:\n",
        "    # Print the fetched URL\n",
        "    print(f\"Processing video from URL: {url_link}\")\n",
        "\n",
        "    # Extract the video filename from the URL (assuming the URL ends with .mp4)\n",
        "    video_filename = os.path.basename(url_link)\n",
        "\n",
        "    # Define the full path to save the downloaded video\n",
        "    video_filepath = os.path.join(download_directory, video_filename)\n",
        "\n",
        "    # Download the video from the URL\n",
        "    response = requests.get(url_link)\n",
        "    with open(video_filepath, 'wb') as video_file:\n",
        "        video_file.write(response.content)\n",
        "\n",
        "    # Define the output directory for YOLO results\n",
        "    output_directory = os.path.join(yolo_directory, 'yolo_result')\n",
        "    os.makedirs(output_directory, exist_ok=True)\n",
        "\n",
        "    # Print video file path\n",
        "    print(f\"Video file path is: {video_filepath}\")\n",
        "\n",
        "    # Define the YOLO command\n",
        "    yolo_command = f'python {os.path.join(yolo_directory, \"detect.py\")} --source \"{video_filepath}\" --weights \"{os.path.join(yolo_directory, \"best.pt\")}\" --project \"{output_directory}\"'\n",
        "\n",
        "    print(f\"YOLO command is: {yolo_command}\")\n",
        "\n",
        "    # Execute the YOLO command using subprocess\n",
        "    subprocess.run(yolo_command, shell=True)\n",
        "\n",
        "except Exception as e:\n",
        "    print(f\"Error processing {last_video_url}: {str(e)}\")\n"
      ],
      "metadata": {
        "colab": {
          "base_uri": "https://localhost:8080/"
        },
        "id": "LyXpbdLxbMX8",
        "outputId": "f36b22de-a469-4bb1-933b-9301c89de5ad"
      },
      "execution_count": null,
      "outputs": [
        {
          "output_type": "stream",
          "name": "stdout",
          "text": [
            "Processing video from URL: https://s3.amazonaws.com/pf-user-files-01/u-54188/uploads/2023-09-14/cf34pru/00e35688-8355-459d-9e81-8935f15058f3.mp4\n",
            "Video file path is: /content/drive/MyDrive/StrongSORT-YOLO/yolov5/yolov5/downloaded_videos/00e35688-8355-459d-9e81-8935f15058f3.mp4\n",
            "YOLO command is: python /content/drive/MyDrive/StrongSORT-YOLO/yolov5/yolov5/detect.py --source \"/content/drive/MyDrive/StrongSORT-YOLO/yolov5/yolov5/downloaded_videos/00e35688-8355-459d-9e81-8935f15058f3.mp4\" --weights \"/content/drive/MyDrive/StrongSORT-YOLO/yolov5/yolov5/best.pt\" --project \"/content/drive/MyDrive/StrongSORT-YOLO/yolov5/yolov5/yolo_result\"\n"
          ]
        }
      ]
    },
    {
      "cell_type": "code",
      "source": [
        "import os\n",
        "import glob\n",
        "\n",
        "# Define the directory path\n",
        "directory_path = '/content/drive/MyDrive/StrongSORT-YOLO/yolov5/yolov5/yolo_result/exp'\n",
        "\n",
        "# Get a list of all files in the directory\n",
        "files = glob.glob(os.path.join(directory_path, '*'))\n",
        "\n",
        "# Sort the files by modification time (most recent first)\n",
        "files.sort(key=os.path.getmtime, reverse=True)\n",
        "\n",
        "# Check if there are any files in the directory\n",
        "if files:\n",
        "    # Get the most recently added file\n",
        "    most_recent_file = files[0]\n",
        "\n",
        "    # Extract the file name from the path\n",
        "    file_name = os.path.basename(most_recent_file)\n",
        "\n",
        "    # Print the most recently added file name\n",
        "    print(f\"Most recently added file: {file_name}\")\n",
        "else:\n",
        "    print(\"The directory is empty.\")\n"
      ],
      "metadata": {
        "colab": {
          "base_uri": "https://localhost:8080/"
        },
        "id": "12V3bQ5TbjDb",
        "outputId": "e6f582ce-f2dd-42e4-f81a-6d68ffeda5a3"
      },
      "execution_count": null,
      "outputs": [
        {
          "output_type": "stream",
          "name": "stdout",
          "text": [
            "Most recently added file: 00e35688-8355-459d-9e81-8935f15058f3.mp4\n"
          ]
        }
      ]
    },
    {
      "cell_type": "code",
      "source": [
        "import os\n",
        "from googleapiclient.discovery import build\n",
        "from google.oauth2 import service_account\n",
        "from datetime import datetime\n",
        "\n",
        "# Set the path to your JSON credentials file\n",
        "credentials_file = '/content/drive/MyDrive/StrongSORT-YOLO/yolov5/yolov5/elated-coral-398820-92ee6ef533d7.json'\n",
        "\n",
        "# Initialize the service account credentials\n",
        "credentials = service_account.Credentials.from_service_account_file(\n",
        "    credentials_file, scopes=['https://www.googleapis.com/auth/drive.readonly']\n",
        ")\n",
        "\n",
        "# Build the Drive API client\n",
        "drive_service = build('drive', 'v3', credentials=credentials)\n",
        "\n",
        "folder_id = '1-lLXvWu-_JNMeolT2qSw2_b7axcAJ7Zn'\n",
        "\n",
        "# List all the files in the folder and sort them by modified time\n",
        "results = drive_service.files().list(\n",
        "    q=f\"'{folder_id}' in parents\",\n",
        "    fields='files(id, name, modifiedTime)',\n",
        "    orderBy='modifiedTime desc',\n",
        ").execute()\n",
        "\n",
        "# Get the first (most recent) file from the list\n",
        "if 'files' in results:\n",
        "    most_recent_file = results['files'][0]\n",
        "\n",
        "    # Get the file's metadata\n",
        "    file_id = most_recent_file['id']\n",
        "    file_metadata = drive_service.files().get(fileId=file_id, fields='webViewLink').execute()\n",
        "\n",
        "    # Extract the sharable link from the metadata\n",
        "    sharable_link = file_metadata.get('webViewLink')\n",
        "\n",
        "    print(\"Most Recent File Sharable Link:\", sharable_link)\n",
        "else:\n",
        "    print(\"No files found in the folder.\")\n"
      ],
      "metadata": {
        "colab": {
          "base_uri": "https://localhost:8080/"
        },
        "id": "eCJ1mSDScPf2",
        "outputId": "a1049771-255d-4aea-fc72-7b5762b6aa57"
      },
      "execution_count": null,
      "outputs": [
        {
          "output_type": "stream",
          "name": "stdout",
          "text": [
            "Most Recent File Sharable Link: https://drive.google.com/file/d/1-7H_ZoV3Snki2lCaJMAmL2D8XCK8WUbQ/view?usp=drivesdk\n"
          ]
        }
      ]
    },
    {
      "cell_type": "code",
      "source": [
        "import smtplib\n",
        "\n",
        "sender_email = 'studentsheart.es@gmail.com'\n",
        "receiver_email = email_id\n",
        "sharable_link = sharable_link\n",
        "\n",
        "# Format the email message with the sharable link\n",
        "message = f\"\"\"\\\n",
        "Subject: Email Test from SohailAIExpert\n",
        "\n",
        "New entry and the processed Video file can be accessed at this Link:\n",
        "{sharable_link}\n",
        "\"\"\"\n",
        "\n",
        "# Use the App Password you generated for your Gmail account\n",
        "app_password = 'mllt skxs rflb uueg'  # Replace with your App Password\n",
        "\n",
        "try:\n",
        "    with smtplib.SMTP('smtp.gmail.com', 587) as server:\n",
        "        server.starttls()\n",
        "        server.login(sender_email, app_password)\n",
        "        server.sendmail(sender_email, receiver_email, message)\n",
        "    print(f\"Successfully sent email to : {email_id}\")\n",
        "except smtplib.SMTPException as e:\n",
        "    print(f\"Error: unable to send email\\n{e}\")\n"
      ],
      "metadata": {
        "colab": {
          "base_uri": "https://localhost:8080/"
        },
        "id": "tPKBEIOFcWJD",
        "outputId": "f9160572-72a5-48f6-aacf-2e88aaad81c7"
      },
      "execution_count": null,
      "outputs": [
        {
          "output_type": "stream",
          "name": "stdout",
          "text": [
            "Successfully sent email to : isaac.cohen1@gmail.com\n"
          ]
        }
      ]
    },
    {
      "cell_type": "code",
      "source": [
        "from google.colab import auth\n",
        "auth.authenticate_user()\n",
        "\n",
        "import gspread\n",
        "from google.auth import default\n",
        "\n",
        "# Authenticate and authorize\n",
        "creds, _ = default()\n",
        "\n",
        "# Authorize the Google Sheets API\n",
        "gc = gspread.authorize(creds)\n",
        "\n",
        "# Open the sheet and select the tab\n",
        "spreadsheet_url = 'https://docs.google.com/spreadsheets/d/1UJ6in71M5X_oDXmKOL2tYhlW21vWqPjBZYAISXTuDHI/edit#gid=1725335115'\n",
        "worksheet_name = 'LIVE SUBMISSIONS'\n",
        "worksheet = gc.open_by_url(spreadsheet_url).worksheet(worksheet_name)\n",
        "\n",
        "# Define the row number and new value\n",
        "row_number = index\n",
        "new_value = sharable_link\n",
        "\n",
        "# Get the last column (AA) letter\n",
        "last_column = 'AA'\n",
        "\n",
        "# Define the cell to update in AA column\n",
        "cell_to_update = f'{last_column}{row_number}'\n",
        "\n",
        "# Update the specific cell in AA column with the new value\n",
        "worksheet.update(cell_to_update, new_value)\n",
        "\n",
        "print(f\"Updated cell {cell_to_update} with '{new_value}'.\")\n"
      ],
      "metadata": {
        "colab": {
          "base_uri": "https://localhost:8080/"
        },
        "id": "ChetcZszcwR0",
        "outputId": "f60e2a09-4163-45d4-e2e9-cc0f8dde65ba"
      },
      "execution_count": null,
      "outputs": [
        {
          "output_type": "stream",
          "name": "stdout",
          "text": [
            "Updated cell AA16 with 'https://drive.google.com/file/d/1-7H_ZoV3Snki2lCaJMAmL2D8XCK8WUbQ/view?usp=drivesdk'.\n"
          ]
        }
      ]
    },
    {
      "cell_type": "code",
      "source": [],
      "metadata": {
        "id": "d9koQ410gAYB"
      },
      "execution_count": null,
      "outputs": []
    }
  ]
}